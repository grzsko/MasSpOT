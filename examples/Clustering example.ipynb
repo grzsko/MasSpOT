{
 "cells": [
  {
   "cell_type": "code",
   "execution_count": null,
   "metadata": {
    "ExecuteTime": {
     "end_time": "2020-02-02T16:29:25.619190Z",
     "start_time": "2020-02-02T16:29:25.605839Z"
    }
   },
   "outputs": [],
   "source": [
    "# from pyimzml.ImzMLParser import ImzMLParser\n",
    "from masserstein import Spectrum\n",
    "\n",
    "from sklearn.cluster import AgglomerativeClustering\n",
    "# from sklearn.metrics import pairwise_distances\n",
    "\n",
    "from MasSpOT import calculate_distance\n",
    "\n",
    "import datetime\n",
    "\n",
    "import matplotlib.pyplot as plt\n",
    "\n",
    "import gc\n",
    "\n",
    "import math"
   ]
  },
  {
   "cell_type": "code",
   "execution_count": null,
   "metadata": {
    "ExecuteTime": {
     "end_time": "2019-11-25T13:18:58.692611Z",
     "start_time": "2019-11-25T13:18:57.331998Z"
    }
   },
   "outputs": [],
   "source": [
    "# Get data\n",
    "\n",
    "# p = ImzMLParser('data/mouse_cebellum/test_POS.imzML')\n",
    "# dimensions = (max(coor[0] for coor in p.coordinates),\n",
    "#               max(coor[1] for coor in p.coordinates))\n",
    "# # We know that z has only one value - 1\n",
    "# picture = [[None for y in range(dimensions[1])] for x in range(dimensions[0])]\n",
    "# for idx, (x, y, z) in enumerate(p.coordinates):\n",
    "#     mzs, intensities = p.getspectrum(idx)\n",
    "#     s = Spectrum('', empty=True, label=str(x) + \", \" + str(y))\n",
    "#     s.confs = list(zip(mzs, intensities))\n",
    "#     picture[x - 1][y - 1] = s\n",
    "dimensions = (81, 21)\n",
    "picture = [[None for y in range(dimensions[1])] for x in range(dimensions[0])]\n",
    "with open(\"data/mouse_cebellum/peak_picked_brain.tsv\", \"r\") as infile:\n",
    "    mzs = list(map(float, next(infile).strip().split(\"\\t\")[2:]))\n",
    "    for line in infile:\n",
    "        line = line.strip().split(\"\\t\")\n",
    "        x, y = map(int, line[:2])\n",
    "        intensities = list(map(float, line[2:]))\n",
    "        s = Spectrum('', empty=True, label=str(x) + \", \" + str(y))\n",
    "        s.set_confs(list(zip(mzs, intensities)))\n",
    "        picture[x - 1][y - 1] = s"
   ]
  },
  {
   "cell_type": "code",
   "execution_count": null,
   "metadata": {
    "ExecuteTime": {
     "end_time": "2019-11-25T13:19:59.225966Z",
     "start_time": "2019-11-25T13:19:59.220381Z"
    }
   },
   "outputs": [],
   "source": [
    "def flatten(l):\n",
    "    return [item for sublist in l for item in sublist]\n",
    "\n",
    "\n",
    "\n",
    "\n",
    "flat_picture = flatten(picture)"
   ]
  },
  {
   "cell_type": "code",
   "execution_count": null,
   "metadata": {
    "ExecuteTime": {
     "end_time": "2019-11-22T13:13:49.466642Z",
     "start_time": "2019-11-22T13:13:49.389626Z"
    }
   },
   "outputs": [],
   "source": [
    "\n",
    "\n",
    "from optimal_transport_py import quick_distance\n",
    "\n",
    "def own_affinity():\n",
    "    count = 0\n",
    "    distances = np.zeros((len(flat_picture), len(flat_picture)))\n",
    "    for i, row in enumerate(distances):\n",
    "        for j in range(i + 1):\n",
    "            gc.collect()\n",
    "            distances[i][j] = quick_distance(flat_picture[i],\n",
    "                                                 flat_picture[j])\n",
    "            count += 1\n",
    "            # if count % 100 == 0:\n",
    "            # print(datetime.datetime.now(), count, i, j)\n",
    "    return distances\n",
    "            \n",
    "\n",
    "\n",
    "# distance_matrix = own_affinity()\n",
    "\n",
    "    \n"
   ]
  },
  {
   "cell_type": "code",
   "execution_count": null,
   "metadata": {
    "ExecuteTime": {
     "end_time": "2019-11-01T18:24:53.218871Z",
     "start_time": "2019-11-01T18:24:38.336925Z"
    }
   },
   "outputs": [],
   "source": [
    "from multiprocessing import Pool\n",
    "\n",
    "def par_distance(arg):\n",
    "    i, j = arg\n",
    "    return calculate_distance(flat_picture[i], flat_picture[j]), i, j\n",
    "    \n",
    "\n",
    "def ind_generator():\n",
    "    count = 0\n",
    "    for i in range(len(flat_picture)):\n",
    "        for j in range(len(flat_picture)):\n",
    "            count += 1\n",
    "            if count % 10 == 0:\n",
    "                print(\"Now yielding \", count)\n",
    "                return\n",
    "            yield (i, j)\n",
    "    return\n",
    "\n",
    "def own_affinity_paralel():\n",
    "    pool = Pool(2)\n",
    "    distance_matrix = [[None for y in range(len(flat_picture))] for x in range(len(flat_picture))]\n",
    "    for dist, i, j in pool.imap_unordered(par_distance, ind_generator(), chunksize=2):\n",
    "        distance_matrix[i][j] = dist\n",
    "    return distance_matrix\n",
    "\n",
    "\n",
    "distance_matrix = own_affinity_paralel()"
   ]
  },
  {
   "cell_type": "code",
   "execution_count": null,
   "metadata": {
    "ExecuteTime": {
     "end_time": "2019-11-25T13:19:07.373408Z",
     "start_time": "2019-11-25T13:19:05.922036Z"
    }
   },
   "outputs": [],
   "source": [
    "# import json\n",
    "# with open(\"data/mouse_cebellum/distances.json\", \"w\") as outfile:\n",
    "#     json.dump(distance_matrix, outfile)\n",
    "    \n",
    "    \n",
    "import json\n",
    "with open(\"data/mouse_cebellum/distances.json\", \"r\") as infile:\n",
    "    distance_matrix = json.load(infile)\n",
    "    \n",
    "    \n",
    "distance_matrix = np.array(distance_matrix)\n",
    "    "
   ]
  },
  {
   "cell_type": "code",
   "execution_count": null,
   "metadata": {
    "ExecuteTime": {
     "end_time": "2019-11-25T13:19:09.265469Z",
     "start_time": "2019-11-25T13:19:09.253221Z"
    }
   },
   "outputs": [],
   "source": [
    "import matplotlib.pyplot as plt\n",
    "\n",
    "%matplotlib notebook\n",
    "?fig.colorbar\n"
   ]
  },
  {
   "cell_type": "code",
   "execution_count": null,
   "metadata": {
    "ExecuteTime": {
     "end_time": "2020-02-02T16:30:15.728519Z",
     "start_time": "2020-02-02T16:30:15.724537Z"
    }
   },
   "outputs": [],
   "source": [
    "# fig, ax = plt.subplots()\n",
    "# im = ax.imshow(distance_matrix, cmap=plt.get_cmap(\"Oranges\"))\n",
    "\n",
    "# fig.colorbar(im)\n",
    "\n",
    "# # fig.tight_layout()\n",
    "# plt.show()"
   ]
  },
  {
   "cell_type": "code",
   "execution_count": null,
   "metadata": {
    "ExecuteTime": {
     "end_time": "2020-02-02T16:30:34.523436Z",
     "start_time": "2020-02-02T16:30:34.509014Z"
    }
   },
   "outputs": [],
   "source": [
    "ac = AgglomerativeClustering(n_clusters=None, affinity='precomputed',\n",
    "                             linkage='average', compute_full_tree=True,\n",
    "                             distance_threshold=0.45)\n",
    "labels = ac.fit_predict(distance_matrix)\n",
    "\n"
   ]
  },
  {
   "cell_type": "code",
   "execution_count": null,
   "metadata": {
    "ExecuteTime": {
     "end_time": "2020-02-02T16:30:35.064906Z",
     "start_time": "2020-02-02T16:30:35.051063Z"
    }
   },
   "outputs": [],
   "source": [
    "labels\n"
   ]
  },
  {
   "cell_type": "code",
   "execution_count": null,
   "metadata": {
    "ExecuteTime": {
     "end_time": "2019-11-25T16:17:07.804994Z",
     "start_time": "2019-11-25T16:17:07.786434Z"
    }
   },
   "outputs": [],
   "source": [
    "label_picture = [[None for y in range(dimensions[1])] for x in range(dimensions[0])]\n",
    "\n",
    "indexes = [(i, j) for i, sublist in enumerate(picture) for j, item in enumerate(sublist)]\n",
    "\n",
    "for n, (i, j) in zip(labels, indexes):\n",
    "    label_picture[i][j] = n\n"
   ]
  },
  {
   "cell_type": "code",
   "execution_count": null,
   "metadata": {
    "ExecuteTime": {
     "end_time": "2019-11-25T16:17:18.183458Z",
     "start_time": "2019-11-25T16:17:18.071843Z"
    }
   },
   "outputs": [],
   "source": [
    "fig, ax = plt.subplots()\n",
    "# x = \n",
    "im = ax.imshow(label_picture, cmap=plt.get_cmap(\"Oranges\"))\n",
    "\n",
    "fig.colorbar(im)\n",
    "\n",
    "# fig.tight_layout()\n",
    "plt.show()\n",
    "\n"
   ]
  },
  {
   "cell_type": "code",
   "execution_count": null,
   "metadata": {
    "ExecuteTime": {
     "end_time": "2019-11-25T13:34:52.639554Z",
     "start_time": "2019-11-25T13:34:51.777657Z"
    }
   },
   "outputs": [],
   "source": [
    "# Compare with correlation\n",
    "for sp in flat_picture:\n",
    "    sp.cut_smallest_peaks(0.01)\n",
    "    sp.coarse_bin(1)\n",
    "    sp.norm = math.sqrt(sum(x[1] ** 2 for x in sp.confs))\n",
    "    \n",
    "sp.plot()"
   ]
  },
  {
   "cell_type": "code",
   "execution_count": null,
   "metadata": {
    "ExecuteTime": {
     "end_time": "2019-11-25T15:28:28.568466Z",
     "start_time": "2019-11-25T15:28:28.371548Z"
    }
   },
   "outputs": [],
   "source": [
    "similarities = [[None for _ in range(len(flat_picture))] for _ in range(len(flat_picture))]\n",
    "\n",
    "\n",
    "\n",
    "def similarity_distance(spec1, spec2):\n",
    "    i1, i2 = 0, 0\n",
    "    ret = 0.0\n",
    "\n",
    "    while i2 < len(spec2.confs):\n",
    "#         print(\"Looping\")\n",
    "        while i1 < len(spec1.confs) and spec1.confs[i1][0] < spec2.confs[i2][0]:\n",
    "#             print(\"I1\", spec1.confs[i1], i1, spec2.confs[i2], i2)\n",
    "            i1 += 1\n",
    "        if i1 == len(spec1.confs):\n",
    "            break\n",
    "        while i2 < len(spec2.confs) and spec2.confs[i2][0] < spec1.confs[i1][0]:\n",
    "#             print(\"I2\", spec1.confs[i1], i1, spec2.confs[i2], i2)\n",
    "            i2 += 1\n",
    "        if i2 == len(spec2.confs):\n",
    "            break\n",
    "        if spec1.confs[i1][0] == spec2.confs[i2][0]:\n",
    "#             print(\"Add\", i1, i2, spec1.confs[i1][0], spec2.confs[i2][0])\n",
    "            ret += spec1.confs[i1][1] * spec2.confs[i2][1]\n",
    "            i2 += 1\n",
    "    return ret / (spec1.norm * spec2.norm)"
   ]
  },
  {
   "cell_type": "code",
   "execution_count": null,
   "metadata": {
    "ExecuteTime": {
     "end_time": "2019-11-25T16:03:53.855149Z",
     "start_time": "2019-11-25T16:03:53.119019Z"
    }
   },
   "outputs": [],
   "source": [
    "\n",
    "\n",
    "start = datetime.datetime.now()\n",
    "for i, si in enumerate(flat_picture):\n",
    "    for j, sj in enumerate(flat_picture):\n",
    "        similarities[i][j] = similarity_distance(si, sj)\n",
    "\n",
    "\n",
    "print(datetime.datetime.now() - start)\n",
    "\n",
    "for i in range(len(similarities)):\n",
    "    for j in range(len(similarities[i])):\n",
    "        similarities[i][j] = 1 - similarities[i][j]"
   ]
  },
  {
   "cell_type": "code",
   "execution_count": null,
   "metadata": {
    "ExecuteTime": {
     "end_time": "2019-11-25T16:04:05.163058Z",
     "start_time": "2019-11-25T16:04:04.618623Z"
    }
   },
   "outputs": [],
   "source": [
    "# TODO cluster\n",
    "fig, ax = plt.subplots()\n",
    "im = ax.imshow(similarities, cmap=plt.get_cmap(\"Oranges\"))\n",
    "\n",
    "fig.colorbar(im)\n",
    "\n",
    "# fig.tight_layout()\n",
    "plt.show()"
   ]
  },
  {
   "cell_type": "code",
   "execution_count": null,
   "metadata": {
    "ExecuteTime": {
     "end_time": "2019-11-25T16:10:16.169180Z",
     "start_time": "2019-11-25T16:10:15.836219Z"
    }
   },
   "outputs": [],
   "source": [
    "ac2 = AgglomerativeClustering(n_clusters=None, affinity='precomputed',\n",
    "                             linkage='average', compute_full_tree=True,\n",
    "                             distance_threshold=0.1)\n",
    "labels2 = ac2.fit_predict(similarities)\n",
    "\n",
    "label_picture2 = [[None for y in range(dimensions[1])] for x in range(dimensions[0])]\n",
    "\n",
    "indexes = [(i, j) for i, sublist in enumerate(picture) for j, _ in enumerate(sublist)]\n",
    "\n",
    "for n, (i, j) in zip(labels2, indexes):\n",
    "    label_picture2[i][j] = n\n",
    "\n",
    "\n",
    "\n",
    "fig, ax = plt.subplots()\n",
    "# x = \n",
    "im = ax.imshow(label_picture2, cmap=plt.get_cmap(\"Oranges\"))\n",
    "\n",
    "fig.colorbar(im)\n",
    "\n",
    "# fig.tight_layout()\n",
    "plt.show()\n",
    "\n",
    "# TODO Wybierz jeden klaster i nadaj mu kolor i następnie koloruj coraz ciemniejszymi kolorami wraz z odległością\n",
    "# od tego wybranego klastra"
   ]
  },
  {
   "cell_type": "code",
   "execution_count": null,
   "metadata": {},
   "outputs": [],
   "source": [
    "\n"
   ]
  }
 ],
 "metadata": {
  "celltoolbar": "Raw Cell Format",
  "kernelspec": {
   "display_name": "Python 3",
   "language": "python",
   "name": "python3"
  },
  "language_info": {
   "codemirror_mode": {
    "name": "ipython",
    "version": 3
   },
   "file_extension": ".py",
   "mimetype": "text/x-python",
   "name": "python",
   "nbconvert_exporter": "python",
   "pygments_lexer": "ipython3",
   "version": "3.6.8"
  },
  "varInspector": {
   "cols": {
    "lenName": 16,
    "lenType": 16,
    "lenVar": 40
   },
   "kernels_config": {
    "python": {
     "delete_cmd_postfix": "",
     "delete_cmd_prefix": "del ",
     "library": "var_list.py",
     "varRefreshCmd": "print(var_dic_list())"
    },
    "r": {
     "delete_cmd_postfix": ") ",
     "delete_cmd_prefix": "rm(",
     "library": "var_list.r",
     "varRefreshCmd": "cat(var_dic_list()) "
    }
   },
   "types_to_exclude": [
    "module",
    "function",
    "builtin_function_or_method",
    "instance",
    "_Feature"
   ],
   "window_display": false
  }
 },
 "nbformat": 4,
 "nbformat_minor": 2
}
