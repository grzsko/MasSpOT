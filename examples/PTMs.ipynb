{
 "cells": [
  {
   "cell_type": "code",
   "execution_count": 4,
   "metadata": {
    "ExecuteTime": {
     "end_time": "2019-12-18T01:06:37.765446Z",
     "start_time": "2019-12-18T01:06:37.739721Z"
    }
   },
   "outputs": [],
   "source": [
    "with open(\"data/ptm/seq.txt\") as infile:\n",
    "    fasta = \"\"\n",
    "    for line in infile:\n",
    "        fasta += line.strip()"
   ]
  },
  {
   "cell_type": "code",
   "execution_count": 5,
   "metadata": {
    "ExecuteTime": {
     "end_time": "2019-12-18T01:06:38.927302Z",
     "start_time": "2019-12-18T01:06:38.921799Z"
    }
   },
   "outputs": [],
   "source": [
    "from masserstein.peptides import get_protein_counter\n",
    "from masserstein import Spectrum\n",
    "\n",
    "from collections import Counter\n",
    "import random\n",
    "import itertools\n",
    "from copy import copy\n",
    "\n",
    "import gc\n",
    "\n",
    "from optimal_transport_py import quick_distance"
   ]
  },
  {
   "cell_type": "code",
   "execution_count": 6,
   "metadata": {
    "ExecuteTime": {
     "end_time": "2019-12-18T01:06:41.198744Z",
     "start_time": "2019-12-18T01:06:39.610422Z"
    }
   },
   "outputs": [],
   "source": [
    "htt_counter = get_protein_counter(fasta)\n",
    "htt_spectrum = Spectrum.new_from_fasta(fasta, threshold=0.1)\n",
    "htt_mass = htt_spectrum.average_mass()"
   ]
  },
  {
   "cell_type": "code",
   "execution_count": 7,
   "metadata": {
    "ExecuteTime": {
     "end_time": "2019-12-18T01:06:41.887657Z",
     "start_time": "2019-12-18T01:06:41.875200Z"
    }
   },
   "outputs": [],
   "source": [
    "changes = {\n",
    "    \"S\": Counter({\"H\": -1, \"P\": 1, \"O\": 3}),\n",
    "    \"K\": Counter({\"H\": 2, \"C\": 2, \"O\": 1}),\n",
    "    \"T\": Counter({\"H\": -1, \"P\": 1, \"O\": 3})\n",
    "}\n",
    "\n",
    "changes_counts = {\n",
    "    \"S\": 30,\n",
    "    \"K\": 11\n",
    "}\n",
    "\n",
    "ids = {\n",
    "    0: \"S\",\n",
    "    1: \"K\"\n",
    "}"
   ]
  },
  {
   "cell_type": "code",
   "execution_count": 8,
   "metadata": {
    "ExecuteTime": {
     "end_time": "2019-12-18T01:06:43.225391Z",
     "start_time": "2019-12-18T01:06:43.219502Z"
    }
   },
   "outputs": [],
   "source": [
    "count = 100\n",
    "\n",
    "\n",
    "\n",
    "randoms = random.sample(list(itertools.product(*(range(i + 1) for i in changes_counts.values()))), count)\n"
   ]
  },
  {
   "cell_type": "code",
   "execution_count": null,
   "metadata": {
    "ExecuteTime": {
     "start_time": "2019-12-18T02:13:17.512Z"
    }
   },
   "outputs": [
    {
     "name": "stdout",
     "output_type": "stream",
     "text": [
      "Doing: 0\n"
     ]
    }
   ],
   "source": [
    "mass_dists = []\n",
    "spec_dists = []\n",
    "\n",
    "for i, t in enumerate(randoms):\n",
    "    print(\"Doing:\", i)\n",
    "    new_counter = copy(htt_counter)\n",
    "    for index, coor in enumerate(t):\n",
    "        change = changes[ids[index]]\n",
    "#         print(change, new_counter)\n",
    "        for _ in range(coor):\n",
    "            new_counter += change\n",
    "    new_formula = ''.join(sym+str(count) for sym,count in sorted(new_counter.items()))\n",
    "    new_spectrum = Spectrum(new_formula)\n",
    "    spec_dists.append(quick_distance(htt_spectrum, new_spectrum))\n",
    "    mass_dists.append(new_spectrum.average_mass() - htt_mass)\n",
    "    gc.collect()\n",
    "    break"
   ]
  },
  {
   "cell_type": "code",
   "execution_count": 10,
   "metadata": {
    "ExecuteTime": {
     "end_time": "2019-12-18T01:04:26.333847Z",
     "start_time": "2019-12-18T01:04:26.316427Z"
    }
   },
   "outputs": [
    {
     "ename": "NameError",
     "evalue": "name 'spec_dists' is not defined",
     "output_type": "error",
     "traceback": [
      "\u001b[0;31m---------------------------------------------------------------------------\u001b[0m",
      "\u001b[0;31mNameError\u001b[0m                                 Traceback (most recent call last)",
      "\u001b[0;32m<ipython-input-10-e4e3be928e1f>\u001b[0m in \u001b[0;36m<module>\u001b[0;34m\u001b[0m\n\u001b[1;32m      1\u001b[0m \u001b[0;32mimport\u001b[0m \u001b[0mjson\u001b[0m\u001b[0;34m\u001b[0m\u001b[0;34m\u001b[0m\u001b[0m\n\u001b[1;32m      2\u001b[0m \u001b[0;32mwith\u001b[0m \u001b[0mopen\u001b[0m\u001b[0;34m(\u001b[0m\u001b[0;34m\"data/ptm/results.json\"\u001b[0m\u001b[0;34m,\u001b[0m \u001b[0;34m\"w\"\u001b[0m\u001b[0;34m)\u001b[0m \u001b[0;32mas\u001b[0m \u001b[0moutfile\u001b[0m\u001b[0;34m:\u001b[0m\u001b[0;34m\u001b[0m\u001b[0;34m\u001b[0m\u001b[0m\n\u001b[0;32m----> 3\u001b[0;31m     \u001b[0mjson\u001b[0m\u001b[0;34m.\u001b[0m\u001b[0mdump\u001b[0m\u001b[0;34m(\u001b[0m\u001b[0;34m[\u001b[0m\u001b[0mspec_dists\u001b[0m\u001b[0;34m,\u001b[0m \u001b[0mmass_dists\u001b[0m\u001b[0;34m]\u001b[0m\u001b[0;34m)\u001b[0m\u001b[0;34m\u001b[0m\u001b[0;34m\u001b[0m\u001b[0m\n\u001b[0m",
      "\u001b[0;31mNameError\u001b[0m: name 'spec_dists' is not defined"
     ]
    }
   ],
   "source": [
    "import json\n",
    "with open(\"data/ptm/results.json\", \"w\") as outfile:\n",
    "    json.dump([spec_dists, mass_dists])"
   ]
  },
  {
   "cell_type": "code",
   "execution_count": 8,
   "metadata": {
    "ExecuteTime": {
     "end_time": "2019-12-18T01:03:50.328260Z",
     "start_time": "2019-12-18T01:03:50.248875Z"
    }
   },
   "outputs": [],
   "source": [
    "import json\n",
    "?json.dump"
   ]
  },
  {
   "cell_type": "code",
   "execution_count": null,
   "metadata": {},
   "outputs": [],
   "source": []
  }
 ],
 "metadata": {
  "kernelspec": {
   "display_name": "Python 3",
   "language": "python",
   "name": "python3"
  },
  "language_info": {
   "codemirror_mode": {
    "name": "ipython",
    "version": 3
   },
   "file_extension": ".py",
   "mimetype": "text/x-python",
   "name": "python",
   "nbconvert_exporter": "python",
   "pygments_lexer": "ipython3",
   "version": "3.6.8"
  },
  "varInspector": {
   "cols": {
    "lenName": 16,
    "lenType": 16,
    "lenVar": 40
   },
   "kernels_config": {
    "python": {
     "delete_cmd_postfix": "",
     "delete_cmd_prefix": "del ",
     "library": "var_list.py",
     "varRefreshCmd": "print(var_dic_list())"
    },
    "r": {
     "delete_cmd_postfix": ") ",
     "delete_cmd_prefix": "rm(",
     "library": "var_list.r",
     "varRefreshCmd": "cat(var_dic_list()) "
    }
   },
   "types_to_exclude": [
    "module",
    "function",
    "builtin_function_or_method",
    "instance",
    "_Feature"
   ],
   "window_display": false
  }
 },
 "nbformat": 4,
 "nbformat_minor": 2
}
